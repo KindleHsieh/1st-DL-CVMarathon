{
 "cells": [
  {
   "cell_type": "markdown",
   "metadata": {},
   "source": [
    "# 作業\n",
    "\n",
    "思考一下我們前面有提到圖片是矩陣，但維度可能會不一樣\n",
    "例如灰階圖只有兩個維度，RGB 彩圖則有 3 個維度\n",
    "\n",
    "假如今天我們把 RGB 3 個維度拆開來看會有甚麼不同的效果呢？"
   ]
  },
  {
   "cell_type": "code",
   "execution_count": null,
   "metadata": {},
   "outputs": [],
   "source": [
    "import cv2\n",
    "\n",
    "img_path = 'lena.png'\n",
    "img = cv2.imread(img_path)\n",
    "img_g = cv2.imread(img_path, cv2.IMREAD_GRAYSCALE)\n",
    "# img = cv2.imread(img_path, cv2.IMREAD_UNCHANGED)\n",
    "print('img_type', type(img))\n",
    "print('img_shape:', img.shape)\n",
    "# cv2.imshow('Color(RGB', img)\n",
    "# cv2.imshow('Gray', img_g)\n",
    "\n",
    "# 手動拆開三元色\n",
    "img1 = img[:, :, 0]\n",
    "img2 = img[:, :, 1]\n",
    "img3 = img[:, :, 2]\n",
    "\n",
    "# ## 函式分開三通道\n",
    "# img1, img2, img3 = cv2.split(img)\n",
    "# print(img[:, :, 0]); print(img[:, :, 1]); print(img[:, :, 2])\n",
    "\n",
    "cv2.imshow('Color(B)', img1)\n",
    "cv2.imshow('Color(G)', img2)\n",
    "cv2.imshow('COlor(R)', img3)\n",
    "\n",
    "k = cv2.waitKey(0)\n",
    "cv2.destroyAllWindows()\n"
   ]
  }
 ],
 "metadata": {
  "kernelspec": {
   "display_name": "Python 3",
   "language": "python",
   "name": "python3"
  },
  "language_info": {
   "codemirror_mode": {
    "name": "ipython",
    "version": 3
   },
   "file_extension": ".py",
   "mimetype": "text/x-python",
   "name": "python",
   "nbconvert_exporter": "python",
   "pygments_lexer": "ipython3",
   "version": "3.6.8"
  }
 },
 "nbformat": 4,
 "nbformat_minor": 2
}
